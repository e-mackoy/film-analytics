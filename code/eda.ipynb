{
 "cells": [
  {
   "cell_type": "markdown",
   "metadata": {},
   "source": [
    "# EDA "
   ]
  },
  {
   "cell_type": "markdown",
   "metadata": {},
   "source": [
    "## Import Data Preparation Notebook"
   ]
  },
  {
   "cell_type": "code",
   "execution_count": 3,
   "metadata": {
    "scrolled": false
   },
   "outputs": [
    {
     "name": "stdout",
     "output_type": "stream",
     "text": [
      "C:\\Users\\emmam\n",
      "C:\\Users\\emmam\\Documents\n",
      "C:\\Users\\emmam\\Documents\\Flatiron\n",
      "C:\\Users\\emmam\\Documents\\Flatiron\\phase_2\n",
      "C:\\Users\\emmam\\Documents\\Flatiron\\phase_2\\film-analytics\n",
      "C:\\Users\\emmam\\Documents\\Flatiron\\phase_2\\film-analytics\\data\n"
     ]
    }
   ],
   "source": [
    "%run /Users/emmam/Documents/Flatiron/phase_2/film-analytics/code/data_preparation.ipynb"
   ]
  },
  {
   "cell_type": "code",
   "execution_count": null,
   "metadata": {},
   "outputs": [],
   "source": [
    "from sklearn.model_selection import cross_val_predict, cross_val_score\n",
    "from sklearn.metrics import mean_squared_error, r2_score\n",
    "import numpy as np\n",
    "import matplotlib.pyplot as plt\n",
    "import seaborn as sns"
   ]
  },
  {
   "cell_type": "code",
   "execution_count": null,
   "metadata": {},
   "outputs": [],
   "source": [
    "df.columns"
   ]
  },
  {
   "cell_type": "code",
   "execution_count": null,
   "metadata": {},
   "outputs": [],
   "source": [
    "numeric_cols = df.select_dtypes(include=['number']).columns\n",
    "df_numeric = df[numeric_cols]\n",
    "\n",
    "Q1 = df_numeric.quantile(0.5)\n",
    "Q3 = df_numeric.quantile(0.95)\n",
    "IQR = Q3 - Q1\n",
    "\n",
    "lower_bound = Q1 - 1.5 * IQR\n",
    "upper_bound = Q3 + 1.5 * IQR\n",
    "\n",
    "df_filtered = df[~((df_numeric < lower_bound) | (df_numeric > upper_bound)).any(axis=1)]"
   ]
  },
  {
   "cell_type": "markdown",
   "metadata": {},
   "source": [
    "## Descriptive Statistics"
   ]
  },
  {
   "cell_type": "code",
   "execution_count": null,
   "metadata": {},
   "outputs": [],
   "source": [
    "df.describe()"
   ]
  },
  {
   "cell_type": "markdown",
   "metadata": {},
   "source": [
    "## Correlation Analysis"
   ]
  },
  {
   "cell_type": "code",
   "execution_count": null,
   "metadata": {
    "scrolled": false
   },
   "outputs": [],
   "source": [
    "corr = df.corr()\n",
    "corr"
   ]
  },
  {
   "cell_type": "code",
   "execution_count": null,
   "metadata": {},
   "outputs": [],
   "source": [
    "corr_matrix = df[['vote_average', 'vote_count', 'worldwide_gross', 'popularity']].corr()\n",
    "corr_matrix"
   ]
  },
  {
   "cell_type": "markdown",
   "metadata": {},
   "source": [
    "## Visual Analysis"
   ]
  },
  {
   "cell_type": "code",
   "execution_count": null,
   "metadata": {},
   "outputs": [],
   "source": [
    "genre_columns = ['action', 'adventure', 'animation', 'comedy', 'crime', 'documentary', 'drama', 'family', 'fantasy', 'history', \n",
    "                'horror', 'music', 'mystery', 'romance', 'science fiction', 'thriller', 'war', 'western']\n",
    "\n",
    "genre_gross = pd.DataFrame()\n",
    "\n",
    "for genre in genre_columns:\n",
    "    genre_gross.at[genre, 'average_worldwide_gross'] = df_filtered[df_filtered[genre] == 1]['worldwide_gross'].mean()\n",
    "\n",
    "genre_gross = genre_gross.sort_values(by='average_worldwide_gross', ascending=False)\n",
    "plt.figure(figsize=(12, 8))\n",
    "sns.barplot(x=genre_gross.index, y=genre_gross['average_worldwide_gross'])\n",
    "plt.title('Average Worldwide Gross by Genre')\n",
    "plt.ylabel('Average Worldwide Gross')\n",
    "plt.xlabel('Genre')\n",
    "plt.xticks(rotation=45)\n",
    "plt.show();"
   ]
  },
  {
   "cell_type": "code",
   "execution_count": null,
   "metadata": {},
   "outputs": [],
   "source": [
    "import pandas as pd\n",
    "import matplotlib.pyplot as plt\n",
    "\n",
    "director_gross = df_filtered.groupby('director')['worldwide_gross'].mean().sort_values(ascending=False)\n",
    "\n",
    "#min_movies = 2\n",
    "#director_gross = df_filtered.groupby('director').filter(lambda x: len(x) >= min_movies).groupby('director')['worldwide_gross'].mean().sort_values(ascending=False)\n",
    "\n",
    "top_n = 20\n",
    "top_directors = director_gross.head(top_n)\n",
    "\n",
    "plt.figure(figsize=(12, 8))\n",
    "top_directors.plot(kind='bar')\n",
    "plt.title('Top Directors by Average Worldwide Gross')\n",
    "plt.ylabel('Average Worldwide Gross')\n",
    "plt.xlabel('Director')\n",
    "plt.xticks(rotation=45)\n",
    "plt.show();"
   ]
  },
  {
   "cell_type": "code",
   "execution_count": null,
   "metadata": {},
   "outputs": [],
   "source": [
    "df_filtered['roi'] = ((df_filtered['worldwide_gross'] - df_filtered['production_budget']\n",
    "                              ) /df_filtered['production_budget']) * 100"
   ]
  },
  {
   "cell_type": "code",
   "execution_count": null,
   "metadata": {
    "scrolled": true
   },
   "outputs": [],
   "source": [
    "df['worldwide_gross'].corr(df['animation'])"
   ]
  },
  {
   "cell_type": "code",
   "execution_count": null,
   "metadata": {},
   "outputs": [],
   "source": [
    "genre_columns = ['action', 'adventure', 'animation', 'comedy', 'crime', 'documentary', \n",
    "                 'drama', 'family', 'fantasy', 'history', 'horror', 'music', 'mystery', \n",
    "                 'romance', 'science fiction', 'thriller', 'war', 'western']\n",
    "\n",
    "genre_popularity_over_time = df_filtered.groupby('year')[genre_columns].mean()\n",
    "\n",
    "plt.figure(figsize=(20, 15))\n",
    "genre_popularity_over_time.plot(kind='line', lw=2)\n",
    "plt.title('Genre Popularity Over Time')\n",
    "plt.xlabel('Year')\n",
    "plt.ylabel('Average Popularity')\n",
    "plt.legend(loc='upper left', bbox_to_anchor=(1, 1))\n",
    "plt.grid(True)\n",
    "plt.show();"
   ]
  },
  {
   "cell_type": "code",
   "execution_count": null,
   "metadata": {},
   "outputs": [],
   "source": [
    "roi_min = df_filtered['worldwide_gross'].min()\n",
    "roi_max = df_filtered['worldwide_gross'].max()\n",
    "df_filtered['normalized_worldwide_gross'] = (df_filtered['worldwide_gross'] - roi_min) / (roi_max - roi_min)\n",
    "\n",
    "vote_count_min = df_filtered['vote_count'].min()\n",
    "vote_count_max = df_filtered['vote_count'].max()\n",
    "df_filtered['normalized_vote_count'] = (df_filtered['vote_count'] - vote_count_min) / (vote_count_max - vote_count_min)\n",
    "\n",
    "df_filtered['success_metric'] = (df_filtered['normalized_worldwide_gross'] + df_filtered['normalized_vote_count']) / 2\n",
    "\n",
    "df_filtered.head()"
   ]
  },
  {
   "cell_type": "code",
   "execution_count": null,
   "metadata": {},
   "outputs": [],
   "source": [
    "director_success = df_filtered.groupby('director')['success_metric'].mean().reset_index()\n",
    "\n",
    "director_success = director_success.sort_values(by='success_metric', ascending=False).head(20)\n",
    "\n",
    "plt.figure(figsize=(12, 6))\n",
    "sns.barplot(x='director', y='success_metric', data=director_success, ci=None)\n",
    "plt.xticks(rotation=45)\n",
    "plt.title('Mean Success Metric by Director')\n",
    "plt.xlabel('Director')\n",
    "plt.ylabel('Mean Success Metric')\n",
    "plt.show()\n"
   ]
  },
  {
   "cell_type": "code",
   "execution_count": null,
   "metadata": {},
   "outputs": [],
   "source": [
    "melted_df = df_filtered.melt(id_vars=['primary_title', 'success_metric'], value_vars=genre_columns,\n",
    "                    var_name='genre', value_name='genre_value')\n",
    "\n",
    "melted_df = melted_df[melted_df['genre_value'] == 1]\n",
    "\n",
    "plt.figure(figsize=(12, 6))\n",
    "sns.boxplot(x='genre', y='success_metric', data=melted_df)\n",
    "plt.xticks(rotation=45)\n",
    "plt.title('Success Metric by Genre')\n",
    "plt.xlabel('Genre')\n",
    "plt.ylabel('Success Metric')\n",
    "plt.show()"
   ]
  },
  {
   "cell_type": "code",
   "execution_count": null,
   "metadata": {},
   "outputs": [],
   "source": [
    "melted_df = df_filtered.melt(id_vars=['primary_title', 'success_metric'], value_vars=genre_columns,\n",
    "                    var_name='genre', value_name='genre_value')\n",
    "\n",
    "melted_df = melted_df[melted_df['genre_value'] == 1]\n",
    "\n",
    "plt.figure(figsize=(12, 6))\n",
    "sns.boxplot(x='genre', y='success_metric', data=melted_df)\n",
    "plt.xticks(rotation=45)\n",
    "plt.title('Success Metric by Genre')\n",
    "plt.xlabel('Genre')\n",
    "plt.ylabel('Success Metric')\n",
    "plt.show()"
   ]
  },
  {
   "cell_type": "code",
   "execution_count": null,
   "metadata": {},
   "outputs": [],
   "source": [
    "df_filtered.head()"
   ]
  },
  {
   "cell_type": "code",
   "execution_count": null,
   "metadata": {},
   "outputs": [],
   "source": [
    "df_filtered.columns"
   ]
  },
  {
   "cell_type": "code",
   "execution_count": null,
   "metadata": {},
   "outputs": [],
   "source": [
    "df_filtered.head()"
   ]
  },
  {
   "cell_type": "code",
   "execution_count": null,
   "metadata": {},
   "outputs": [],
   "source": [
    "# Convert 'release_date' to datetime\n",
    "df_filtered = df_filtered.copy()\n",
    "\n",
    "df_filtered.loc[:, 'release_date'] = pd.to_datetime(df_filtered['release_date'])\n",
    "\n",
    "# Create 'release_year', 'release_month', and 'release_day' columns\n",
    "df_filtered.loc[:, 'release_year'] = df_filtered['release_date'].dt.year\n",
    "df_filtered.loc[:, 'release_month'] = df_filtered['release_date'].dt.month\n",
    "df_filtered.loc[:, 'release_day'] = df_filtered['release_date'].dt.day"
   ]
  },
  {
   "cell_type": "code",
   "execution_count": null,
   "metadata": {},
   "outputs": [],
   "source": [
    "df_filtered.columns"
   ]
  },
  {
   "cell_type": "code",
   "execution_count": null,
   "metadata": {},
   "outputs": [],
   "source": [
    "def categorize_director(director, average_rating_per_director):\n",
    "    high_rating_threshold = .5 \n",
    "    low_rating_threshold = -.5   \n",
    "\n",
    "    avg_rating = average_rating_per_director.get(director, None)\n",
    "\n",
    "    if avg_rating is not None:\n",
    "        if avg_rating >= high_rating_threshold:\n",
    "            return 'high_rating'\n",
    "        elif avg_rating <= low_rating_threshold:\n",
    "            return 'low_rating'\n",
    "        else:\n",
    "            return 'medium_rating'\n",
    "    else:\n",
    "        return 'unknown'  "
   ]
  },
  {
   "cell_type": "code",
   "execution_count": null,
   "metadata": {},
   "outputs": [],
   "source": [
    "average_rating_per_director = df_copy.groupby('director')['vote_average'].mean()"
   ]
  },
  {
   "cell_type": "code",
   "execution_count": null,
   "metadata": {},
   "outputs": [],
   "source": [
    "df_copy['director_category'] = df_copy['director'].apply(lambda x: categorize_director(x, average_rating_per_director))"
   ]
  },
  {
   "cell_type": "code",
   "execution_count": null,
   "metadata": {},
   "outputs": [],
   "source": [
    "df_copy['director_category'].value_counts()"
   ]
  },
  {
   "cell_type": "code",
   "execution_count": null,
   "metadata": {},
   "outputs": [],
   "source": [
    "df_encoded1 = pd.get_dummies(df_copy, columns=['director_category'])"
   ]
  },
  {
   "cell_type": "code",
   "execution_count": null,
   "metadata": {},
   "outputs": [],
   "source": [
    "df_encoded1.columns"
   ]
  },
  {
   "cell_type": "code",
   "execution_count": null,
   "metadata": {},
   "outputs": [],
   "source": [
    "df_copy.columns"
   ]
  },
  {
   "cell_type": "code",
   "execution_count": null,
   "metadata": {},
   "outputs": [],
   "source": [
    "df_encoded1 = pd.get_dummies(df_copy, columns=['studio'])"
   ]
  },
  {
   "cell_type": "code",
   "execution_count": null,
   "metadata": {},
   "outputs": [],
   "source": [
    "df_encoded1.columns"
   ]
  },
  {
   "cell_type": "code",
   "execution_count": null,
   "metadata": {},
   "outputs": [],
   "source": [
    "top_studios = df_copy['studio'].value_counts().nlargest(20).index\n",
    "\n",
    "df_copy['studio_top'] = df_copy['studio'].apply(lambda x: x if x in top_studios else 'Other')"
   ]
  },
  {
   "cell_type": "code",
   "execution_count": null,
   "metadata": {},
   "outputs": [],
   "source": [
    "df_encoded1.columns"
   ]
  },
  {
   "cell_type": "code",
   "execution_count": null,
   "metadata": {},
   "outputs": [],
   "source": [
    "studio_df = pd.get_dummies(df_copy, columns=['studio_top'], drop_first=True)\n",
    "studio_df.head()"
   ]
  },
  {
   "cell_type": "code",
   "execution_count": null,
   "metadata": {},
   "outputs": [],
   "source": [
    "studio_df.columns[20:]"
   ]
  },
  {
   "cell_type": "code",
   "execution_count": null,
   "metadata": {},
   "outputs": [],
   "source": [
    "df_encoded.columns"
   ]
  },
  {
   "cell_type": "code",
   "execution_count": null,
   "metadata": {},
   "outputs": [],
   "source": [
    "# One-hot encode the categorical rating_category\n",
    "df_encoded = pd.get_dummies(df_encoded, columns=['rating_category'], drop_first=True)"
   ]
  },
  {
   "cell_type": "code",
   "execution_count": null,
   "metadata": {},
   "outputs": [],
   "source": [
    "df_encoded.columns"
   ]
  },
  {
   "cell_type": "code",
   "execution_count": null,
   "metadata": {},
   "outputs": [],
   "source": [
    "columns_to_bring = ['release_day', 'release_month', 'release_year', 'title']\n",
    "df_subset = df_filtered[columns_to_bring]\n",
    "\n",
    "df_encoded = pd.merge(df_encoded, df_subset, on='title', how='left')"
   ]
  },
  {
   "cell_type": "code",
   "execution_count": null,
   "metadata": {},
   "outputs": [],
   "source": [
    "df_encoded.head()"
   ]
  },
  {
   "cell_type": "code",
   "execution_count": null,
   "metadata": {},
   "outputs": [],
   "source": []
  }
 ],
 "metadata": {
  "kernelspec": {
   "display_name": "Python (learn-env)",
   "language": "python",
   "name": "learn-env"
  },
  "language_info": {
   "codemirror_mode": {
    "name": "ipython",
    "version": 3
   },
   "file_extension": ".py",
   "mimetype": "text/x-python",
   "name": "python",
   "nbconvert_exporter": "python",
   "pygments_lexer": "ipython3",
   "version": "3.8.5"
  }
 },
 "nbformat": 4,
 "nbformat_minor": 4
}
